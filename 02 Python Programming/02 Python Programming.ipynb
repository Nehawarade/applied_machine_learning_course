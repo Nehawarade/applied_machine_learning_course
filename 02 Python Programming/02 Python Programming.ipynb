{
 "cells": [
  {
   "cell_type": "markdown",
   "metadata": {},
   "source": [
    "# Python Programming"
   ]
  },
  {
   "cell_type": "markdown",
   "metadata": {},
   "source": [
    "### To run your code using\n",
    "1. Jupyter Notebook\n",
    "2. Jupyter Lab\n",
    "3. Google Colab\n",
    "    - High Computing Machine is unavaialble\n",
    "    - If s/w is unavaliable\n",
    "    - Uplodad the Dataset"
   ]
  },
  {
   "cell_type": "markdown",
   "metadata": {},
   "source": [
    "### Voting Eligibility Classifier\n",
    "\n",
    "I/P : Data Set -> ML Algorithm -> O/P : ML Model \n",
    "\n",
    "After Trainig:\n",
    "\n",
    "Age - > ML Model -> Eligilbe to Vote or Not?"
   ]
  },
  {
   "cell_type": "markdown",
   "metadata": {},
   "source": [
    "### Contents\n",
    "1. What is an Expression?\n",
    "2. Common Math Commands\n",
    "3. Variables\n",
    "4. Significance of Whitespace in Python\n",
    "5. Comments\n",
    "6. Naming Rules\n",
    "7. Naming Convention in Python\n",
    "8. Variable Assignment\n",
    "9. Accessing Non-Existent Names\n",
    "10. Data Types\n",
    "11. Casting\n",
    "12. Operators\n",
    "    * Arithmetic Operators\n",
    "    * Comparison Operators\n",
    "    * Logical Operators\n",
    "    * Identity Operators\n",
    "    * Bitwise Operators\n",
    "13. Data Structures\n",
    "    * List\n",
    "      * Using Lists as Stacks\n",
    "      * Using Lists as Queues\n",
    "      * List Comprehensions\n",
    "      * Nested List Comprehensions\n",
    "    * Tuples and Sequences\n",
    "    * Sets\n",
    "    * Dictionaries\n",
    "    * Looping Techniques\n",
    "    * More on Conditions\n",
    "    * Comparing Sequences and Other Types\n",
    "14. Errors and Exceptions\n",
    "    * Syntax Errors\n",
    "    * Exceptions\n",
    "    * Handling Exceptions\n",
    "    * Raising Exceptions\n",
    "    * User-defined Exceptions\n",
    "    * Defining Clean-up Actions\n",
    "    * Predefined Clean-up Actions\n",
    "15. Classes\n",
    "    * A Word About Names and Objects\n",
    "    * Python Scopes and Namespaces\n",
    "    * Scopes and Namespaces Example\n",
    "    * A First Look at Classes\n",
    "    * Class Definition Syntax\n",
    "    * Class Objects\n",
    "    * Instance Objects\n",
    "    * Method Objects\n",
    "    * Class and Instance Variables\n",
    "    * Random Remarks\n",
    "    * Inheritance\n",
    "    * Multiple Inheritance\n",
    "    * Private Variables\n",
    "    * Odds and Ends\n",
    "    * Iterators\n",
    "    * Generators\n",
    "    * Generator Expressions"
   ]
  },
  {
   "cell_type": "markdown",
   "metadata": {},
   "source": [
    "## What is an Expression?\n",
    "\n",
    "* Data value or a set of operations to compute a value\n",
    "\n",
    "* Arithmetic Operators used: `+ - * / % **`\n",
    "\n",
    "* Operator Precedence:  `* / % **`\n",
    "\n",
    "* Paranthesis can be used to force certain order of evaluation."
   ]
  },
  {
   "cell_type": "code",
   "execution_count": 13,
   "metadata": {},
   "outputs": [],
   "source": [
    "y=0\n",
    "x=20\n",
    "# x*4\n",
    "# print(x*4+5)\n",
    "# x*(4+5)\n",
    "# x/y"
   ]
  },
  {
   "cell_type": "markdown",
   "metadata": {},
   "source": [
    "## Common Math Commands\n",
    "* `abs(x)`\n",
    "\n",
    "* `ceil(x)`\n",
    "\n",
    "* `floor(x)`\n",
    "\n",
    "* `log(x)`\n",
    "\n",
    "* `log10(x)`\n",
    "\n",
    "* `max(x,y)`\n",
    "\n",
    "* `min(x,y)`\n",
    "\n",
    "* `round(x)`\n",
    "\n",
    "* `sqrt(x)`"
   ]
  },
  {
   "cell_type": "markdown",
   "metadata": {},
   "source": [
    "#### Note: round(N.x)\n",
    "* x>0.5 -> N+1 = ceil(N.x)\n",
    "* x<=0.5 -> N = floor(N.x)"
   ]
  },
  {
   "cell_type": "code",
   "execution_count": 21,
   "metadata": {},
   "outputs": [
    {
     "name": "stdout",
     "output_type": "stream",
     "text": [
      "11\n"
     ]
    }
   ],
   "source": [
    "# import math\n",
    "print(round(10.55))\n",
    "# print(math.ceil(10.5))\n",
    "# print(math.floor(10.5))"
   ]
  },
  {
   "cell_type": "markdown",
   "metadata": {},
   "source": [
    "## Variables\n",
    "* Named peiece of memory that can store a value."
   ]
  },
  {
   "cell_type": "code",
   "execution_count": 22,
   "metadata": {},
   "outputs": [],
   "source": [
    "x=7"
   ]
  },
  {
   "cell_type": "markdown",
   "metadata": {},
   "source": [
    "## Significance of Whitespace in Python\n",
    "\n",
    "* Braces ```{}``` are **not used** in Python to mark a block of code.\n",
    "\n",
    "* Whitespaces are used to achieve the same.\n",
    "\n",
    "* Use ```\\``` when must go to next line prematurely."
   ]
  },
  {
   "cell_type": "code",
   "execution_count": 23,
   "metadata": {},
   "outputs": [
    {
     "name": "stdout",
     "output_type": "stream",
     "text": [
      "1\n",
      "2\n",
      "3\n",
      "4\n",
      "5\n",
      "6\n",
      "7\n",
      "8\n",
      "9\n"
     ]
    }
   ],
   "source": [
    "for i in range(1,10):\n",
    "    print(i)"
   ]
  },
  {
   "cell_type": "markdown",
   "metadata": {},
   "source": [
    "## Comments\n",
    "* Single Line Comments `#`\n",
    "\n",
    "* Multi Line Comments `'''` or `\"\"\"`"
   ]
  },
  {
   "cell_type": "code",
   "execution_count": 38,
   "metadata": {},
   "outputs": [],
   "source": [
    "# x=50\n"
   ]
  },
  {
   "cell_type": "markdown",
   "metadata": {},
   "source": [
    "## Naming Rules\n",
    "* Names are case sensitive and **can't start with a number.**\n",
    "* Names can contain letters, numbers, underscore.\n",
    "\n",
    "Python has 33 Key/Reserved Words:\n",
    "\n",
    "`False`, `None`, `True`, `and`, `as`, `assert`, `break`, `class`, `continue`, `def`, `del`, `elif`, `else`, `except`, `finally`, `for`, `from`, `global`, `if`, `import`, `in`, `is`, `lambda`, `nonlocal`, `not`, `or`, `pass`, `raise`, `return`, `try`, `while`, `with`, `yield`"
   ]
  },
  {
   "cell_type": "code",
   "execution_count": 116,
   "metadata": {},
   "outputs": [
    {
     "name": "stdout",
     "output_type": "stream",
     "text": [
      "some\n"
     ]
    }
   ],
   "source": [
    "a=10\n",
    "b=5\n",
    "if a>1:\n",
    "    print('some')\n",
    "elif a==10:\n",
    "    print('a is 10')\n",
    "    \n",
    "# try\n",
    "# catch == except\n",
    "l=[1,2,3,4]\n",
    "# if 1 in l:\n",
    "#     print('avaialable')\n",
    "!=\n",
    "a=None\n",
    "if a is not None:\n",
    "    print('a is null')"
   ]
  },
  {
   "cell_type": "markdown",
   "metadata": {},
   "source": [
    "## Naming Convention in Python\n",
    "* joined_lower for functions and attributes\n",
    "* ALL_CAPS for constatns\n",
    "* StudlyCaps for classes\n",
    "* _private for private variables"
   ]
  },
  {
   "cell_type": "code",
   "execution_count": null,
   "metadata": {},
   "outputs": [],
   "source": []
  },
  {
   "cell_type": "markdown",
   "metadata": {},
   "source": [
    "## Variable Assignment\n",
    "* Assing values to multiple values at the same time\n",
    "* Assignments can be chained"
   ]
  },
  {
   "cell_type": "code",
   "execution_count": null,
   "metadata": {},
   "outputs": [],
   "source": []
  },
  {
   "cell_type": "markdown",
   "metadata": {},
   "source": [
    "## Accessing Non-Existent Names\n",
    "* Don't access a variables before it's created, if accessed rises an error."
   ]
  },
  {
   "cell_type": "code",
   "execution_count": null,
   "metadata": {},
   "outputs": [],
   "source": []
  },
  {
   "cell_type": "markdown",
   "metadata": {},
   "source": [
    "## Data Types\n",
    "`int` `float` `complex` `bool` `str` `bytes` `bytearray` `range` `list` `tuple` `set` `frozenset` `dict` `None`\n",
    "\n",
    "Pythons built in functions\n",
    "* print()\n",
    "* type() - returns the datatype of an identifier.\n",
    "* long datatype was available in Python 2 but not available in Python 3."
   ]
  },
  {
   "cell_type": "markdown",
   "metadata": {},
   "source": [
    "### `int` Data Type\n",
    "\n",
    " * Used to represent the integral values\n",
    " * Integral values can be represented in 4 forms.\n",
    " * Decimal - 12\n",
    "     * Base 10\n",
    "     * Allowed values 0-9\n",
    " * Binary – 0b10 or 0B10\n",
    "     * Base 2\n",
    "     * Allowed values 0 and 1\n",
    " * Octal – 0o10 or 0O10\n",
    "     * Base 8\n",
    "     * Allowed values 0-8\n",
    " * Hexa – 0x10 or 0Ox10\n",
    "     * Base 16\n",
    "     * Allowed values 0-9 and a-f or A-F"
   ]
  },
  {
   "cell_type": "code",
   "execution_count": null,
   "metadata": {},
   "outputs": [],
   "source": []
  },
  {
   "cell_type": "markdown",
   "metadata": {},
   "source": [
    "### Base Conversions\n",
    " * `bin()` - returns the binary value of the passed decimal value.\n",
    " * `oct()` - returns the ocatal value of the passed decimal value.\n",
    " * `hex()` - returns the hexa value of the passed decimal value."
   ]
  },
  {
   "cell_type": "code",
   "execution_count": null,
   "metadata": {},
   "outputs": [],
   "source": []
  },
  {
   "cell_type": "markdown",
   "metadata": {},
   "source": [
    "### `float` - Data Type\n",
    " * Used to represent real values Ex: Price Rs.200.50\n",
    " * All the floating values must be represented only in decimal form.\n",
    " * Ex: a= 23.45 – valid, b=0B1111.111 – invalid\n",
    " * Floating values can be represented in exponential form.\n",
    " * Ex: 1.2e4 equivalent to 1.2 x 10^4"
   ]
  },
  {
   "cell_type": "code",
   "execution_count": null,
   "metadata": {},
   "outputs": [],
   "source": []
  },
  {
   "cell_type": "markdown",
   "metadata": {},
   "source": [
    "### `complex` – Data Type\n",
    " * Used to complex numbers Ex: 10+20j\n",
    " * Standard form : a+bj\n",
    "     * a – real part\n",
    "     * b – imaginary part\n",
    "     * j2=-1\n",
    " * Real Part - Either decimal/binary/octal/hexa/floating point values.\n",
    " * Imaginary part is either decimal or floating point.\n",
    "\n",
    "**Example**\n",
    " * a=10+20j\n",
    " * a.real() – returns real part of the complex number\n",
    " * a.imag() – returns imaginary part of the complex number"
   ]
  },
  {
   "cell_type": "code",
   "execution_count": null,
   "metadata": {},
   "outputs": [],
   "source": []
  },
  {
   "cell_type": "markdown",
   "metadata": {},
   "source": [
    "### `bool` – Data Type\n",
    " * Used to represent Boolean values\n",
    " * Possible values True or False\n",
    " * In Python True is equivalent to 1 and False is equivalent to 0.\n",
    "\n",
    "**Examples:**\n",
    " * True + True = 2\n",
    " * True + False = 1\n",
    " * False + False=0\n",
    " * True* True=1\n",
    " * True*False=0\n",
    " * True/True=1\n",
    " * True/False – 1/0 = Zero Division Error\n",
    " * False / True= 0.0"
   ]
  },
  {
   "cell_type": "code",
   "execution_count": null,
   "metadata": {},
   "outputs": [],
   "source": []
  },
  {
   "cell_type": "markdown",
   "metadata": {},
   "source": [
    "### `str` – Data Type\n",
    " * Used to represent String values\n",
    " * There is no char data type in Python unlike Java and other languages.\n",
    " * String values can be represented by either ’ or “ or ’’’.\n",
    " * Multiline string literals can be represented using triple quotes ’’’\n",
    " * Operator * used to concatenate multiple copies same string.\n",
    "\n",
    "**Example:**\n",
    "* 'naga'*2, outputs naganaga"
   ]
  },
  {
   "cell_type": "code",
   "execution_count": 130,
   "metadata": {},
   "outputs": [
    {
     "data": {
      "text/plain": [
       "'hello'"
      ]
     },
     "execution_count": 130,
     "metadata": {},
     "output_type": "execute_result"
    }
   ],
   "source": [
    "a = \"hello\"\n",
    "a"
   ]
  },
  {
   "cell_type": "markdown",
   "metadata": {},
   "source": [
    "### Index – based accessing\n",
    " * Index value starts from 0\n",
    " * S[+ve] – access data from left to right or from start\n",
    " * Ex: s=’naga’, s[0] – returns n\n",
    " * S[-ve] -access data from right to left or from last.\n",
    " * Example: s[-1] returns a\n",
    " * If index is invalid then throws an error."
   ]
  },
  {
   "cell_type": "code",
   "execution_count": 136,
   "metadata": {},
   "outputs": [
    {
     "data": {
      "text/plain": [
       "'ello'"
      ]
     },
     "execution_count": 136,
     "metadata": {},
     "output_type": "execute_result"
    }
   ],
   "source": []
  },
  {
   "cell_type": "code",
   "execution_count": 140,
   "metadata": {},
   "outputs": [
    {
     "data": {
      "text/plain": [
       "'hello'"
      ]
     },
     "execution_count": 140,
     "metadata": {},
     "output_type": "execute_result"
    }
   ],
   "source": []
  },
  {
   "cell_type": "code",
   "execution_count": 141,
   "metadata": {},
   "outputs": [
    {
     "data": {
      "text/plain": [
       "'hel'"
      ]
     },
     "execution_count": 141,
     "metadata": {},
     "output_type": "execute_result"
    }
   ],
   "source": []
  },
  {
   "cell_type": "markdown",
   "metadata": {},
   "source": [
    "### Slice Operator\n",
    " * Used to get the slice/ part of the full string and can be used on other array based data types such as list, tuple.\n",
    " * Standard Form s[start:end] or s[start:end:step]\n",
    "     * start – starting index (inclusive)\n",
    "     * end – ending index (exclusive) , values will be pulled till end-1 index only\n",
    "     * step – step value (default step value is 1)\n",
    "\n",
    "**Example**\n",
    "```\n",
    " S='naga'\n",
    " ```\n",
    " * S[1:4] – returns data from index 1 till 3 i.e., aga\n",
    " * S[-1:-4] – returns nothing, because the starting index should be always less than end index.\n",
    " * S[-4:-1] – returns raj\n",
    " * S[1:] –return all the data from index 1 till the end, agaraju\n",
    " * S[:6] – return data from starting till the index 5 which is 6-1, nagara\n",
    " * S[:] –return all the data from start till the end i.e., nagaraju\n",
    " * Note: if any of the provided indexes valid then it returns that data, otherwise it won’t return any thing.\n",
    " * Ex: S[1:1000] – returns data from 1 till end of the index, even though 1000 is invalid.\n",
    " * Ex: S[1000:12323] – returns empty string as both the indexes are invalid, and don’t throw an error."
   ]
  },
  {
   "cell_type": "markdown",
   "metadata": {},
   "source": [
    "### Type Casting a.k.a Type Coersion\n",
    " * `int()` – returns the integer value\n",
    " * `float()` – returns the float value\n",
    " * `complex()` – returns the complex value\n",
    " * `bool()` – returns boolean value\n",
    " * `str()` – returns string value"
   ]
  },
  {
   "cell_type": "code",
   "execution_count": null,
   "metadata": {},
   "outputs": [],
   "source": []
  },
  {
   "cell_type": "markdown",
   "metadata": {},
   "source": [
    "### `bytes` – Data Type\n",
    " * The only thing that a computer can store is bytes.\n",
    " * To store anything in a computer, you must first encode it, i.e. convert it to bytes.\n",
    " * Represents a group of byte values just like an array.\n",
    " * It is immutable(not grow-able)\n",
    " * Only values in the range of 0 to 256 are allowed.\n",
    " * Heterogeneous values are not allowed"
   ]
  },
  {
   "cell_type": "code",
   "execution_count": null,
   "metadata": {},
   "outputs": [],
   "source": []
  },
  {
   "cell_type": "markdown",
   "metadata": {},
   "source": [
    "### `bytearray` – Data Type\n",
    " * Used to represent a group of byte values\n",
    " * Allowed values only between 0 to 256\n",
    " * It is mutable , it is grow able in nature, this is the only difference\n",
    "between bytes and bytearray.\n",
    " * Does not allow heterogeneous objects."
   ]
  },
  {
   "cell_type": "code",
   "execution_count": 9,
   "metadata": {},
   "outputs": [
    {
     "data": {
      "text/plain": [
       "bytearray(b'\\x01\\x02')"
      ]
     },
     "execution_count": 9,
     "metadata": {},
     "output_type": "execute_result"
    }
   ],
   "source": [
    "bytearray([1,2])"
   ]
  },
  {
   "cell_type": "markdown",
   "metadata": {},
   "source": [
    "## Operators"
   ]
  },
  {
   "cell_type": "markdown",
   "metadata": {},
   "source": [
    "### Arithmetic Operators: \n",
    "`+` `-` `*` `/` `%` `**` `//` interger division"
   ]
  },
  {
   "cell_type": "code",
   "execution_count": 165,
   "metadata": {},
   "outputs": [
    {
     "data": {
      "text/plain": [
       "2.0"
      ]
     },
     "execution_count": 165,
     "metadata": {},
     "output_type": "execute_result"
    }
   ],
   "source": []
  },
  {
   "cell_type": "markdown",
   "metadata": {},
   "source": [
    "### Comparison Operators\n",
    "`==` `!=` `>` `<` `>=` `<=`"
   ]
  },
  {
   "cell_type": "code",
   "execution_count": 166,
   "metadata": {},
   "outputs": [
    {
     "name": "stdout",
     "output_type": "stream",
     "text": [
      "same\n"
     ]
    }
   ],
   "source": [
    "a='h'\n",
    "b='h'\n",
    "if a==b:\n",
    "    print('same')"
   ]
  },
  {
   "cell_type": "markdown",
   "metadata": {},
   "source": [
    "### Logical Operators\n",
    "\n",
    "`and` `or` `not`"
   ]
  },
  {
   "cell_type": "code",
   "execution_count": null,
   "metadata": {},
   "outputs": [],
   "source": []
  },
  {
   "cell_type": "markdown",
   "metadata": {},
   "source": [
    "### Identity Operators\n",
    "`is` `is not`"
   ]
  },
  {
   "cell_type": "code",
   "execution_count": 180,
   "metadata": {},
   "outputs": [
    {
     "data": {
      "text/plain": [
       "(4350731632, 4350731632)"
      ]
     },
     "execution_count": 180,
     "metadata": {},
     "output_type": "execute_result"
    }
   ],
   "source": [
    "# id(a), id(b)\n",
    "a!=None"
   ]
  },
  {
   "cell_type": "code",
   "execution_count": 183,
   "metadata": {},
   "outputs": [
    {
     "name": "stdout",
     "output_type": "stream",
     "text": [
      "same\n"
     ]
    }
   ],
   "source": [
    "a='h'\n",
    "b='h'\n",
    "\n",
    "# if a==b:\n",
    "#     print('content same')\n",
    "# else:\n",
    "#     print('content not same')\n",
    "    \n",
    "if a is not None:\n",
    "    print('same')\n",
    "else:\n",
    "    print('not same')"
   ]
  },
  {
   "cell_type": "markdown",
   "metadata": {},
   "source": [
    "### Bitwise Operators\n",
    "`&` `|` `^` `~` `<<` `>>`"
   ]
  },
  {
   "cell_type": "code",
   "execution_count": 15,
   "metadata": {},
   "outputs": [
    {
     "data": {
      "text/plain": [
       "False"
      ]
     },
     "execution_count": 15,
     "metadata": {},
     "output_type": "execute_result"
    }
   ],
   "source": [
    "a=-200\n",
    "b=-200\n",
    "a is b"
   ]
  },
  {
   "cell_type": "markdown",
   "metadata": {},
   "source": [
    "### Immutability\n",
    " * Everything in python is an object.\n",
    " * In Python prior to creating an object, interpreter will check if the same object is available\n",
    "in the heap, if it is not available then it will create otherwise it won’t.\n",
    " * Immutability offers better memory utilization and improves performance of the code.\n",
    " * Checking for every object in the memory won’t it decrease speed/performance? As the\n",
    "object is too costly operation then check for the object.\n",
    " * All fundamental data types : int, float, bool, complex, str are immutable.\n",
    " \n",
    " * Keyword ```is``` used to compre the object references.\n",
    " \n",
    " * Ex: a=10 ,b=10 a is b – returns True as they point to same object, value less then 256.\n",
    " * For integer values if the value of an identifier is above 256 a new object will be created\n",
    "for each identifier irrespective of having the identifiers with same value.\n",
    " * Ex: a=257, b=257 ; a is b – returns Flase as the value of a and b are above 256 they will\n",
    "have 2 different objects that they point to.\n",
    "\n",
    "### Importantn Notes:\n",
    "\n",
    " * Immutability is applicable when the range of a datatype is predictable or fixed.\n",
    " * `int`\n",
    "     * immutablity applicable for only the integers between 0 to 256.\n",
    "     * Python’s interpreter creates 0 to 256 objects during the start up.\n",
    " * `bool`\n",
    "     * Immutability applicable as there are only 2 values True or False.\n",
    "     * True and False objects will be created during the interpreter startup.\n",
    " * `str`\n",
    "     * Immutability applicable and no objects will be created during the interpreter startup\n",
    " * `float`\n",
    "     * Immutability is applicable and no objects will be created during the interpreter startup\n",
    " * `complex`\n",
    "     * Immutability is applicable and no objects will be created during the interpreter startup"
   ]
  },
  {
   "cell_type": "code",
   "execution_count": 186,
   "metadata": {},
   "outputs": [
    {
     "data": {
      "text/plain": [
       "[1, 'naga', 2, 1]"
      ]
     },
     "execution_count": 186,
     "metadata": {},
     "output_type": "execute_result"
    }
   ],
   "source": [
    "l=[1,'naga',2]\n",
    "l"
   ]
  },
  {
   "cell_type": "code",
   "execution_count": 187,
   "metadata": {},
   "outputs": [],
   "source": [
    "l.append('new element') - it adds at the end"
   ]
  },
  {
   "cell_type": "code",
   "execution_count": 190,
   "metadata": {},
   "outputs": [],
   "source": [
    "l.insert(2,'newval_at_ind2')"
   ]
  },
  {
   "cell_type": "code",
   "execution_count": 192,
   "metadata": {},
   "outputs": [],
   "source": [
    "l.clear()"
   ]
  },
  {
   "cell_type": "markdown",
   "metadata": {},
   "source": [
    "* Normal Asssignment Operation "
   ]
  },
  {
   "cell_type": "code",
   "execution_count": 409,
   "metadata": {},
   "outputs": [
    {
     "data": {
      "text/plain": [
       "(4383269064, 4383269064)"
      ]
     },
     "execution_count": 409,
     "metadata": {},
     "output_type": "execute_result"
    }
   ],
   "source": [
    "l5=[1,[1,2], [3,4], [5,6],'hello']\n",
    "l6=l5\n",
    "id(l5),id(l6)"
   ]
  },
  {
   "cell_type": "code",
   "execution_count": 224,
   "metadata": {},
   "outputs": [],
   "source": [
    "l5.append([99,23])"
   ]
  },
  {
   "cell_type": "code",
   "execution_count": 225,
   "metadata": {},
   "outputs": [
    {
     "data": {
      "text/plain": [
       "[1, [1, 2], [3, 4], [5, 6], [99, 23]]"
      ]
     },
     "execution_count": 225,
     "metadata": {},
     "output_type": "execute_result"
    }
   ],
   "source": [
    "l5"
   ]
  },
  {
   "cell_type": "code",
   "execution_count": 226,
   "metadata": {},
   "outputs": [
    {
     "data": {
      "text/plain": [
       "[1, [1, 2], [3, 4], [5, 6], [99, 23]]"
      ]
     },
     "execution_count": 226,
     "metadata": {},
     "output_type": "execute_result"
    }
   ],
   "source": [
    "l6"
   ]
  },
  {
   "cell_type": "code",
   "execution_count": 424,
   "metadata": {},
   "outputs": [
    {
     "data": {
      "text/plain": [
       "(4383753800, 4383753800)"
      ]
     },
     "execution_count": 424,
     "metadata": {},
     "output_type": "execute_result"
    }
   ],
   "source": [
    "id(l2[1]), id(l1[1])"
   ]
  },
  {
   "cell_type": "markdown",
   "metadata": {},
   "source": [
    "* Shallow Copy"
   ]
  },
  {
   "cell_type": "code",
   "execution_count": 411,
   "metadata": {},
   "outputs": [
    {
     "data": {
      "text/plain": [
       "[1, [1, 2], [3, 4], [5, 6]]"
      ]
     },
     "execution_count": 411,
     "metadata": {},
     "output_type": "execute_result"
    }
   ],
   "source": [
    "l1=[1,[1,2], [3,4], [5,6],]\n",
    "l1"
   ]
  },
  {
   "cell_type": "code",
   "execution_count": 412,
   "metadata": {},
   "outputs": [
    {
     "data": {
      "text/plain": [
       "[1, [1, 2], [3, 4], [5, 6]]"
      ]
     },
     "execution_count": 412,
     "metadata": {},
     "output_type": "execute_result"
    }
   ],
   "source": [
    "l2=l1.copy()\n",
    "l2"
   ]
  },
  {
   "cell_type": "code",
   "execution_count": 413,
   "metadata": {},
   "outputs": [
    {
     "data": {
      "text/plain": [
       "(4383709448, 4383708680)"
      ]
     },
     "execution_count": 413,
     "metadata": {},
     "output_type": "execute_result"
    }
   ],
   "source": [
    "id(l1), id(l2)"
   ]
  },
  {
   "cell_type": "code",
   "execution_count": 414,
   "metadata": {},
   "outputs": [
    {
     "data": {
      "text/plain": [
       "[1, [1, 2], [3, 4], [5, 6], [8, 7]]"
      ]
     },
     "execution_count": 414,
     "metadata": {},
     "output_type": "execute_result"
    }
   ],
   "source": [
    "l2.append([8,7])\n",
    "l2"
   ]
  },
  {
   "cell_type": "code",
   "execution_count": 415,
   "metadata": {},
   "outputs": [
    {
     "data": {
      "text/plain": [
       "[1, [1, 2], [3, 4], [5, 6]]"
      ]
     },
     "execution_count": 415,
     "metadata": {},
     "output_type": "execute_result"
    }
   ],
   "source": [
    "l1"
   ]
  },
  {
   "cell_type": "code",
   "execution_count": 416,
   "metadata": {},
   "outputs": [
    {
     "data": {
      "text/plain": [
       "[1, [1, 2], [3, 4], [5, 6], [10, 20]]"
      ]
     },
     "execution_count": 416,
     "metadata": {},
     "output_type": "execute_result"
    }
   ],
   "source": [
    "l1.append([10,20])\n",
    "l1"
   ]
  },
  {
   "cell_type": "code",
   "execution_count": 417,
   "metadata": {},
   "outputs": [
    {
     "data": {
      "text/plain": [
       "[1, [1, 2], [3, 4], [5, 6], [8, 7]]"
      ]
     },
     "execution_count": 417,
     "metadata": {},
     "output_type": "execute_result"
    }
   ],
   "source": [
    "l2"
   ]
  },
  {
   "cell_type": "code",
   "execution_count": 419,
   "metadata": {},
   "outputs": [
    {
     "name": "stdout",
     "output_type": "stream",
     "text": [
      "[1, 2]\n"
     ]
    }
   ],
   "source": [
    "print(l2[1])"
   ]
  },
  {
   "cell_type": "code",
   "execution_count": 420,
   "metadata": {},
   "outputs": [],
   "source": [
    "l2[1].append(9)"
   ]
  },
  {
   "cell_type": "code",
   "execution_count": 421,
   "metadata": {},
   "outputs": [
    {
     "data": {
      "text/plain": [
       "[1, [1, 2, 9], [3, 4], [5, 6], [8, 7]]"
      ]
     },
     "execution_count": 421,
     "metadata": {},
     "output_type": "execute_result"
    }
   ],
   "source": [
    "l2"
   ]
  },
  {
   "cell_type": "code",
   "execution_count": 422,
   "metadata": {},
   "outputs": [
    {
     "data": {
      "text/plain": [
       "[1, [1, 2, 9], [3, 4], [5, 6], [10, 20]]"
      ]
     },
     "execution_count": 422,
     "metadata": {},
     "output_type": "execute_result"
    }
   ],
   "source": [
    "l1"
   ]
  },
  {
   "cell_type": "markdown",
   "metadata": {},
   "source": [
    "* Deep Copy"
   ]
  },
  {
   "cell_type": "code",
   "execution_count": 227,
   "metadata": {},
   "outputs": [],
   "source": [
    "import copy"
   ]
  },
  {
   "cell_type": "code",
   "execution_count": 426,
   "metadata": {},
   "outputs": [],
   "source": [
    "l1=[1,[1,2], [3,4], [5,6]]\n",
    "l2=copy.deepcopy(l1)"
   ]
  },
  {
   "cell_type": "code",
   "execution_count": 427,
   "metadata": {},
   "outputs": [
    {
     "data": {
      "text/plain": [
       "(4383755272, 4383754248)"
      ]
     },
     "execution_count": 427,
     "metadata": {},
     "output_type": "execute_result"
    }
   ],
   "source": [
    "id(l1), id(l2)"
   ]
  },
  {
   "cell_type": "code",
   "execution_count": 230,
   "metadata": {},
   "outputs": [
    {
     "data": {
      "text/plain": [
       "[1, [1, 2], [3, 4], [5, 6]]"
      ]
     },
     "execution_count": 230,
     "metadata": {},
     "output_type": "execute_result"
    }
   ],
   "source": [
    "l2"
   ]
  },
  {
   "cell_type": "code",
   "execution_count": 428,
   "metadata": {},
   "outputs": [
    {
     "data": {
      "text/plain": [
       "[1, [1, 2], [3, 4], [5, 6], [0, 4]]"
      ]
     },
     "execution_count": 428,
     "metadata": {},
     "output_type": "execute_result"
    }
   ],
   "source": [
    "l1.append([0,4])\n",
    "l1"
   ]
  },
  {
   "cell_type": "code",
   "execution_count": 429,
   "metadata": {},
   "outputs": [
    {
     "data": {
      "text/plain": [
       "[1, [1, 2], [3, 4], [5, 6]]"
      ]
     },
     "execution_count": 429,
     "metadata": {},
     "output_type": "execute_result"
    }
   ],
   "source": [
    "l2"
   ]
  },
  {
   "cell_type": "code",
   "execution_count": 430,
   "metadata": {},
   "outputs": [
    {
     "data": {
      "text/plain": [
       "[1, [1, 2], [3, 4], [5, 6], [8, 6]]"
      ]
     },
     "execution_count": 430,
     "metadata": {},
     "output_type": "execute_result"
    }
   ],
   "source": [
    "l2.append([8,6])\n",
    "l2"
   ]
  },
  {
   "cell_type": "code",
   "execution_count": 431,
   "metadata": {},
   "outputs": [
    {
     "data": {
      "text/plain": [
       "[1, [1, 2], [3, 4], [5, 6], [0, 4]]"
      ]
     },
     "execution_count": 431,
     "metadata": {},
     "output_type": "execute_result"
    }
   ],
   "source": [
    "l1"
   ]
  },
  {
   "cell_type": "code",
   "execution_count": 235,
   "metadata": {},
   "outputs": [
    {
     "name": "stdout",
     "output_type": "stream",
     "text": [
      "[1, 2]\n"
     ]
    }
   ],
   "source": [
    "print(l1[1])"
   ]
  },
  {
   "cell_type": "code",
   "execution_count": 432,
   "metadata": {},
   "outputs": [
    {
     "data": {
      "text/plain": [
       "[1, [1, 2, 88], [3, 4], [5, 6], [0, 4]]"
      ]
     },
     "execution_count": 432,
     "metadata": {},
     "output_type": "execute_result"
    }
   ],
   "source": [
    "l1[1].append(88)\n",
    "l1"
   ]
  },
  {
   "cell_type": "code",
   "execution_count": 433,
   "metadata": {},
   "outputs": [
    {
     "data": {
      "text/plain": [
       "[1, [1, 2], [3, 4], [5, 6], [8, 6]]"
      ]
     },
     "execution_count": 433,
     "metadata": {},
     "output_type": "execute_result"
    }
   ],
   "source": [
    "l2"
   ]
  },
  {
   "cell_type": "code",
   "execution_count": 238,
   "metadata": {},
   "outputs": [
    {
     "data": {
      "text/plain": [
       "(4383147912, 4382311112)"
      ]
     },
     "execution_count": 238,
     "metadata": {},
     "output_type": "execute_result"
    }
   ],
   "source": [
    "id(l1), id(l2)"
   ]
  },
  {
   "cell_type": "code",
   "execution_count": 438,
   "metadata": {},
   "outputs": [],
   "source": [
    "li=[1,2,3,4,4,None]\n",
    "li[5]"
   ]
  },
  {
   "cell_type": "code",
   "execution_count": 483,
   "metadata": {},
   "outputs": [],
   "source": [
    "l1=[[5,2],[4,7]]"
   ]
  },
  {
   "cell_type": "code",
   "execution_count": 484,
   "metadata": {},
   "outputs": [
    {
     "data": {
      "text/plain": [
       "[[4, 7], [5, 2]]"
      ]
     },
     "execution_count": 484,
     "metadata": {},
     "output_type": "execute_result"
    }
   ],
   "source": [
    "l1.sort()\n",
    "l1"
   ]
  },
  {
   "cell_type": "markdown",
   "metadata": {},
   "source": [
    "## Data Structures"
   ]
  },
  {
   "cell_type": "markdown",
   "metadata": {},
   "source": [
    "### `list`\n",
    " * All the values should be enclosed with in []\n",
    " * Preserves insertion order\n",
    " * Retains duplicates\n",
    " * Allows heterogeneous objects\n",
    " * Grow-able in nature, mutable\n",
    " * Slicing operation is allowed.\n",
    " * Can have None data.\n",
    " * **list methods:**\n",
    "    * `append()` - append object to end of the list\n",
    "    * `clear()` - remove all items from list\n",
    "    * `copy()` - shallo copy of list\n",
    "    * `count()` - return number of occurences of a value in the list\n",
    "    * `extend()` - extend list by appedning the elements from other iterables\n",
    "    * `index()` - return first index of value if exists, raise value error if not exists\n",
    "    * `insert()` - insert object before the specified index\n",
    "    * `pop()` - remove and return an element at specified index, defaulut()` - is last item, raise index error if list is empty or out of index\n",
    "    * `remove()` - remove first occurence of a value, if element doesn;t exisit, raise value error\n",
    "    * `reverse()` - reverse - inplace operation\n",
    "    * `sort()` - stable sort - inplace operation, can use reverse=True for descending order, default value is false\n",
    "\n",
    " * **Questions:**\n",
    "     * What is the difference between Shallow Copy and Deep Copy?\n",
    "         * Reference: https://medium.com/@thawsitt/assignment-vs-shallow-copy-vs-deep-copy-in-python-f70c2f0ebd86\n",
    "     * What is an Inplace Operation\n",
    "         * Transforms input using **NO auxiliary data structure**. \n",
    "         * The input is usually overwritten by the output as the algorithm executes.\n",
    "     * What is Stable Sort?\n",
    "         * Stable sorting algorithms **maintain the relative order of records with equal keys**"
   ]
  },
  {
   "cell_type": "code",
   "execution_count": 477,
   "metadata": {},
   "outputs": [
    {
     "data": {
      "text/plain": [
       "[1, 2, 3, 4, 6, 7, 8, 8, 8, 9, 56]"
      ]
     },
     "execution_count": 477,
     "metadata": {},
     "output_type": "execute_result"
    }
   ],
   "source": [
    "l1=[1,2,3,4,56,6,7,8,9,8,8]\n",
    "# l1.reverse()\n",
    "l1.sort()\n",
    "l1"
   ]
  },
  {
   "cell_type": "code",
   "execution_count": 462,
   "metadata": {},
   "outputs": [
    {
     "data": {
      "text/plain": [
       "[1, 2, 3, 4, 56, 6, 7, 8, 9, 8, 8, [99, 89]]"
      ]
     },
     "execution_count": 462,
     "metadata": {},
     "output_type": "execute_result"
    }
   ],
   "source": [
    "l1.append(l2)\n",
    "l1"
   ]
  },
  {
   "cell_type": "code",
   "execution_count": 443,
   "metadata": {},
   "outputs": [
    {
     "data": {
      "text/plain": [
       "[0, 1, 2, 3, 4, 56, 6, 7, 22]"
      ]
     },
     "execution_count": 443,
     "metadata": {},
     "output_type": "execute_result"
    }
   ],
   "source": [
    "l1.insert(0,0)\n",
    "l1"
   ]
  },
  {
   "cell_type": "code",
   "execution_count": 445,
   "metadata": {},
   "outputs": [
    {
     "data": {
      "text/plain": [
       "[]"
      ]
     },
     "execution_count": 445,
     "metadata": {},
     "output_type": "execute_result"
    }
   ],
   "source": [
    "l1.clear()\n",
    "l1"
   ]
  },
  {
   "cell_type": "code",
   "execution_count": 467,
   "metadata": {},
   "outputs": [
    {
     "data": {
      "text/plain": [
       "[1, 2, 3, 4, 56, 6, 7, 8, 9, 8, 8]"
      ]
     },
     "execution_count": 467,
     "metadata": {},
     "output_type": "execute_result"
    }
   ],
   "source": [
    "l1=[1, 2, 3, 4, 56, 6, 7, 8, 9, 8, 8]\n",
    "l1"
   ]
  },
  {
   "cell_type": "code",
   "execution_count": 469,
   "metadata": {},
   "outputs": [
    {
     "data": {
      "text/plain": [
       "4"
      ]
     },
     "execution_count": 469,
     "metadata": {},
     "output_type": "execute_result"
    }
   ],
   "source": [
    "l1.index(56)"
   ]
  },
  {
   "cell_type": "code",
   "execution_count": 459,
   "metadata": {},
   "outputs": [],
   "source": [
    "l1.extend(l2)"
   ]
  },
  {
   "cell_type": "code",
   "execution_count": 470,
   "metadata": {},
   "outputs": [
    {
     "data": {
      "text/plain": [
       "[1, 2, 3, 4, 56, 6, 7, 8, 9, 8, 8]"
      ]
     },
     "execution_count": 470,
     "metadata": {},
     "output_type": "execute_result"
    }
   ],
   "source": [
    "l1"
   ]
  },
  {
   "cell_type": "code",
   "execution_count": 471,
   "metadata": {},
   "outputs": [
    {
     "data": {
      "text/plain": [
       "8"
      ]
     },
     "execution_count": 471,
     "metadata": {},
     "output_type": "execute_result"
    }
   ],
   "source": [
    "l1.pop()"
   ]
  },
  {
   "cell_type": "code",
   "execution_count": 473,
   "metadata": {},
   "outputs": [
    {
     "data": {
      "text/plain": [
       "1"
      ]
     },
     "execution_count": 473,
     "metadata": {},
     "output_type": "execute_result"
    }
   ],
   "source": [
    "l1.pop(0)"
   ]
  },
  {
   "cell_type": "code",
   "execution_count": 474,
   "metadata": {},
   "outputs": [
    {
     "data": {
      "text/plain": [
       "[2, 3, 4, 56, 6, 7, 8, 9, 8]"
      ]
     },
     "execution_count": 474,
     "metadata": {},
     "output_type": "execute_result"
    }
   ],
   "source": [
    "l1"
   ]
  },
  {
   "cell_type": "markdown",
   "metadata": {},
   "source": [
    "### List Comprehensions\n",
    "* Standards Syntax ```[ expression for item in list if conditional ]```\n",
    "* Elegant way to define and create lists based on existing lists\n",
    "* Conditionals in List Comprehension\n",
    "* Nested IF with List Comprehension\n",
    "* if...else With List Comprehension\n",
    "\n",
    "#### Key Points to Remember\n",
    " * List comprehension is an **elegant way to define and create lists based on existing lists.**\n",
    " * List comprehension is generally **more compact and faster than normal functions and loops for creating list.**\n",
    " * However, we should **avoid writing very long list comprehensions** in one line to ensure that code is user-friendly.\n",
    " * Remember, **every list comprehension can be rewritten in for loop, but every for loop can’t be rewritten in the form of list comprehension.**"
   ]
  },
  {
   "cell_type": "code",
   "execution_count": 485,
   "metadata": {},
   "outputs": [
    {
     "name": "stdout",
     "output_type": "stream",
     "text": [
      "2\n",
      "4\n",
      "6\n",
      "8\n",
      "10\n"
     ]
    }
   ],
   "source": [
    "l=[1,2,3,4,5,6,7,8,9,10]\n",
    "for i in l:\n",
    "    if(i%2==0): # even number\n",
    "        print(i)"
   ]
  },
  {
   "cell_type": "code",
   "execution_count": 492,
   "metadata": {},
   "outputs": [
    {
     "name": "stdout",
     "output_type": "stream",
     "text": [
      "[1, 2, 3, 4, 5, 6, 7, 8, 9, 10]\n"
     ]
    },
    {
     "data": {
      "text/plain": [
       "['Odd', 'Even', 'Odd', 'Even', 'Odd', 'Even', 'Odd', 'Even', 'Odd', 'Even']"
      ]
     },
     "execution_count": 492,
     "metadata": {},
     "output_type": "execute_result"
    }
   ],
   "source": [
    "print(l)\n",
    "[\"Even\" if i%2==0  else \"Odd\" for i in l]"
   ]
  },
  {
   "cell_type": "code",
   "execution_count": 250,
   "metadata": {},
   "outputs": [
    {
     "data": {
      "text/plain": [
       "[4]"
      ]
     },
     "execution_count": 250,
     "metadata": {},
     "output_type": "execute_result"
    }
   ],
   "source": [
    "[i for i in l if i%2==0 if i>2]"
   ]
  },
  {
   "cell_type": "code",
   "execution_count": 254,
   "metadata": {},
   "outputs": [
    {
     "data": {
      "text/plain": [
       "['Odd', 'Even', 'Odd', 'Even']"
      ]
     },
     "execution_count": 254,
     "metadata": {},
     "output_type": "execute_result"
    }
   ],
   "source": [
    "['Even' if i%2==0 else 'Odd' for i in l]"
   ]
  },
  {
   "cell_type": "code",
   "execution_count": 255,
   "metadata": {},
   "outputs": [
    {
     "data": {
      "text/plain": [
       "[[1, 2], [3, 4]]"
      ]
     },
     "execution_count": 255,
     "metadata": {},
     "output_type": "execute_result"
    }
   ],
   "source": [
    "matrix=[[1,2],[3,4]]\n",
    "matrix"
   ]
  },
  {
   "cell_type": "markdown",
   "metadata": {},
   "source": [
    "### `tuple`\n",
    "\n",
    " * All the values should be enclosed with in ()\n",
    " * Preserves insertion order\n",
    " * Retains duplicates\n",
    " * Allows heterogeneous objects\n",
    " * Not Grow-able in nature, it is immutable and this the only difference\n",
    "between list and tuple.\n",
    " * Slicing operation is allowed.\n",
    " * Can have None data.\n",
    " * You can't add elements to a tuple. Tuples have no append or extend method.\n",
    " * You can't remove elements from a tuple. Tuples have no remove or pop method.\n",
    " * You can find elements in a tuple, since this doesn’t change the tuple.\n",
    " * You can also use the in operator to check if an element exists in the tuple.\n",
    " * Tuples are faster than lists. If you're defining a constant set of values and all you're ever going to do with it is iterate through it, use a tuple instead of a list.\n",
    " \n",
    " * **tuple methods:**\n",
    "    * `count()` - return number of occurences of a value\n",
    "    * `index()` - return first index of value if exists, raise value error if not exists"
   ]
  },
  {
   "cell_type": "code",
   "execution_count": 493,
   "metadata": {},
   "outputs": [
    {
     "data": {
      "text/plain": [
       "(1, 2, 3)"
      ]
     },
     "execution_count": 493,
     "metadata": {},
     "output_type": "execute_result"
    }
   ],
   "source": [
    "t=tuple([1,2,3])\n",
    "t"
   ]
  },
  {
   "cell_type": "code",
   "execution_count": 495,
   "metadata": {},
   "outputs": [
    {
     "data": {
      "text/plain": [
       "2"
      ]
     },
     "execution_count": 495,
     "metadata": {},
     "output_type": "execute_result"
    }
   ],
   "source": [
    "t.index(3)"
   ]
  },
  {
   "cell_type": "markdown",
   "metadata": {},
   "source": [
    "### `range()`\n",
    "* Represents a sequence of values\n",
    "* It is immutable\n",
    "* Standard Syntax ```(start,end,step)```\n",
    "* Form 1: range(end)\n",
    "    * Ex: range(10); it returns values from 0 to 9, end index is excluded.\n",
    "* Form 2: range(start,end)\n",
    "    * Ex: range(1,10); it returns values from 1 to 9, start index is inclusive and end index is excluded.\n",
    "* Form 2: range(start,end,step)\n",
    "    * Ex: range(1,10,2); it returns values from 1,3,5,7,9 to 9, start index is inclusive , end index is excluded and step represents step size.\n",
    "* Range data type is not applicable for float data type. It means that all the three parameters start index, end index and step values should be a decimal value otherwise interpreter will throw an error.\n",
    "* default start value is 0\n",
    "* default step value is 1\n",
    "* end value is excluded"
   ]
  },
  {
   "cell_type": "code",
   "execution_count": 501,
   "metadata": {},
   "outputs": [
    {
     "data": {
      "text/plain": [
       "[0, 2, 4, 6, 8]"
      ]
     },
     "execution_count": 501,
     "metadata": {},
     "output_type": "execute_result"
    }
   ],
   "source": [
    "# (start,end,step)\n",
    "[i for i in range(0,10,2)]\n",
    "# 2, 5, 8"
   ]
  },
  {
   "cell_type": "markdown",
   "metadata": {},
   "source": [
    "### `set`\n",
    " * To create empty set the syntax is a=set(), but not a={} - this is a empty dictionary.\n",
    " * All the values should be enclosed with in {}\n",
    " * Does not preserve insertion order\n",
    " * Does not retain duplicates\n",
    " * Allows heterogeneous objects\n",
    " * Grow-able in nature, it is mutable\n",
    " * **Indexing and Slicing operation is not allowed, i.e., it is not subscriptable.**\n",
    "\n",
    " * **set methods**:\n",
    "     * ```add()``` - Add an element to a set. This has no effect if the element is already present.\n",
    "     * ```clear()``` - Remove all elements from this set.\n",
    "     * ```copy()``` - Return a shallow copy of a set.\n",
    "     * ```difference()``` - Return the difference of two or more sets as a **new set.**\n",
    "     * ```difference_update()``` -  Remove all elements of another set from this set.\n",
    "     * ```discard()``` - Remove an element from a set if it is a member. If the element is not a member, do nothing.\n",
    "     * ```intersection()``` - Return the intersection of two sets as **a new set.(i.e. all elements that are in both set)**\n",
    "     * ```intersection_update()``` - Update a set with the intersection of itself and another.\n",
    "     * ```isdisjoint()``` - Return True if two sets have a null intersection.\n",
    "     * ```issubset()``` -  Report whether another set contains this set.\n",
    "     * ```issuperset()``` - Report whether this set contains another set.\n",
    "     * ```pop()``` - **Remove and return an arbitrary set element**. Raises KeyError if the set is empty.\n",
    "     * ```remove()``` - **Remove an element from a set**; it must be a member. If the element is not a member, raise a KeyError.\n",
    "     * ```symmetric_difference()``` - Return the symmetric difference of two sets as a new set. (i.e. all elements that are in exactly one of the set )\n",
    "     * ```symmetric_difference_update()``` - Update a set with the symmetric difference of itself and another.\n",
    "     * ```union()``` - Return the union of sets as **a new set.** (i.e. all elements that are in either set.)\n",
    "     * ```update()``` - Update a set with the union of itself and other```"
   ]
  },
  {
   "cell_type": "code",
   "execution_count": 543,
   "metadata": {},
   "outputs": [
    {
     "data": {
      "text/plain": [
       "({1, 2, 3, 77, 99}, {1, 2, 3, 5, 7, 9})"
      ]
     },
     "execution_count": 543,
     "metadata": {},
     "output_type": "execute_result"
    }
   ],
   "source": [
    "s1=set([1,2,3,77,99])\n",
    "s2=set([1,2,3,5,9,7])\n",
    "s1,s2"
   ]
  },
  {
   "cell_type": "code",
   "execution_count": 544,
   "metadata": {},
   "outputs": [],
   "source": [
    "s1.update(s2)"
   ]
  },
  {
   "cell_type": "code",
   "execution_count": 545,
   "metadata": {},
   "outputs": [
    {
     "data": {
      "text/plain": [
       "{1, 2, 3, 5, 7, 9, 77, 99}"
      ]
     },
     "execution_count": 545,
     "metadata": {},
     "output_type": "execute_result"
    }
   ],
   "source": [
    "s1"
   ]
  },
  {
   "cell_type": "code",
   "execution_count": 531,
   "metadata": {},
   "outputs": [
    {
     "data": {
      "text/plain": [
       "{1, 2, 3}"
      ]
     },
     "execution_count": 531,
     "metadata": {},
     "output_type": "execute_result"
    }
   ],
   "source": [
    "s2"
   ]
  },
  {
   "cell_type": "code",
   "execution_count": 508,
   "metadata": {},
   "outputs": [
    {
     "data": {
      "text/plain": [
       "dict"
      ]
     },
     "execution_count": 508,
     "metadata": {},
     "output_type": "execute_result"
    }
   ],
   "source": [
    "type(a)"
   ]
  },
  {
   "cell_type": "markdown",
   "metadata": {},
   "source": [
    "### `frozenset`\n",
    " * All the values should be enclosed with in {}\n",
    " * Does not preserve insertion order\n",
    " * Does not retain duplicates\n",
    " * Allows heterogeneous objects\n",
    " * Not Grow-able in nature, it is immutable, it is the only difference\n",
    "between set and frozenset.\n",
    " * **Indexing and Slicing operation is not allowed, i.e., it is not\n",
    "subscriptable.**\n",
    "\n",
    " * **frozenset methods:**\n",
    "     * ```copy()``` - Return a shallow copy of a set.\n",
    "     * ```difference()``` - Return the difference of two or more sets as a new set. (i.e. all elements that are in this set but not the others.)\n",
    "     * ```intersection()``` - Return the intersection of two sets as a new set. (i.e. all elements that are in both sets.)\n",
    "     * ```isdisjoint()``` - Return True if two sets have a null intersection.\n",
    "     * ```issubset()``` - Report whether another set contains this set.\n",
    "     * ```issuperset()``` - Report whether this set contains another set.\n",
    "     * ```symmetric_difference()``` - Return the symmetric difference of two sets as a new set.(i.e. all elements that are in exactly one of the sets.)\n",
    "     * ```union()``` - Return the union of sets as a new set.(i.e. all elements that are in either set.)"
   ]
  },
  {
   "cell_type": "code",
   "execution_count": 31,
   "metadata": {},
   "outputs": [
    {
     "data": {
      "text/plain": [
       "frozenset({4})"
      ]
     },
     "execution_count": 31,
     "metadata": {},
     "output_type": "execute_result"
    }
   ],
   "source": [
    "fs1=frozenset([1,2,4,5])\n",
    "fs2=frozenset([1,2,5])\n",
    "fs1-fs2"
   ]
  },
  {
   "cell_type": "markdown",
   "metadata": {},
   "source": [
    "### `dict`\n",
    " * Used to represent key and value pairs.\n",
    " * All the values should be enclosed in {key:value} by key value pairs.\n",
    " * Allows heterogeneous objects\n",
    " * Insertion order is preserved\n",
    " * It is grow-able in nature, it is mutable.\n",
    " * Can have duplicate values but not duplicate keys.\n",
    " * Can have None as value but not as key.\n",
    " * To create an empty dictionary the synatax is a={}\n",
    " \n",
    "#### Ways to create a dictionary\n",
    "1. Creating empty dictionary - using dict keyword or with ```{}```\n",
    "2. Creating dictionary with literals\n",
    "3. Creating Dictionaries by passing parametrs in dict constructor - keyword can't be an expression\n",
    "4. Creating Dictionaries by a list of tuples - make sure you pass list of tuples\n",
    "5. Creating Dictionary by a list of keys and initializing all with same value\n",
    "6. Creating a Dictionary by a two lists - use zip command\n",
    "\n",
    " * **dict methods:**\n",
    " \n",
    "     * ```clear()``` -  Remove all items from D.\n",
    "     * ```copy()``` -  a shallow copy of D\n",
    "     * ```fromkeys()``` -  Returns a new dict with keys from iterable and values equal to value.\n",
    "     * ```get()``` -   D[k] if k in D, else d defaults to None.\n",
    "     * ```items()``` -  a set-like object providing a view on D's items\n",
    "     * ```keys()``` -  a set-like object providing a view on D's keys\n",
    "     * ```pop()``` -  v, remove specified key and return the corresponding value. If key is not found, d is returned if given, otherwise KeyError is raised\n",
    "     * ```popitem()``` -  (k, v), remove and return some (key, value) pair as a 2-tuple; but raise KeyError if D is empty.\n",
    "     * ```setdefault()``` -   D.get(k,d), also set D[k]=d if k not in D\n",
    "     * ```update()``` -  Update D from dict/iterable E and F.\n",
    "         * If E is present and has a .keys() method, then does:  for k in E: D[k] = E[k]\n",
    "         * If E is present and lacks a .keys() method, then does:  for k, v in E: D[k] = v\n",
    "         * In either case, this is followed by: for k in F:  D[k] = F[k]\n",
    "     * ```values()``` -  an object providing a view on D's values\n",
    "\n",
    "\n"
   ]
  },
  {
   "cell_type": "code",
   "execution_count": 107,
   "metadata": {},
   "outputs": [
    {
     "data": {
      "text/plain": [
       "{1: 5,\n",
       " 2: 5,\n",
       " 3: 6,\n",
       " 4: 7,\n",
       " 8: 'new value',\n",
       " 'a': 3,\n",
       " 'b': 5,\n",
       " 'c': 9,\n",
       " 'name': 'srinath'}"
      ]
     },
     "execution_count": 107,
     "metadata": {},
     "output_type": "execute_result"
    }
   ],
   "source": [
    "d0"
   ]
  },
  {
   "cell_type": "code",
   "execution_count": 106,
   "metadata": {},
   "outputs": [
    {
     "data": {
      "text/plain": [
       "{1: 9}"
      ]
     },
     "execution_count": 106,
     "metadata": {},
     "output_type": "execute_result"
    }
   ],
   "source": [
    "# d0.update()\n",
    "d1={1: 9}\n",
    "d1"
   ]
  },
  {
   "cell_type": "code",
   "execution_count": 110,
   "metadata": {},
   "outputs": [
    {
     "data": {
      "text/plain": [
       "({1, 2, 3, 4, 8, 'a', 'b', 'c', 'name'}, {1})"
      ]
     },
     "execution_count": 110,
     "metadata": {},
     "output_type": "execute_result"
    }
   ],
   "source": [
    "d0_k=set(d0.keys())\n",
    "d1_k=set(d1.keys())\n",
    "d0_k,d1_k"
   ]
  },
  {
   "cell_type": "code",
   "execution_count": 100,
   "metadata": {},
   "outputs": [
    {
     "data": {
      "text/plain": [
       "{'a': 3, 'b': 5, 'c': 9, 'name': 'srinath'}"
      ]
     },
     "execution_count": 100,
     "metadata": {},
     "output_type": "execute_result"
    }
   ],
   "source": [
    "d1=dict(a=3,b=5,c=9,name='srinath')\n",
    "d1"
   ]
  },
  {
   "cell_type": "code",
   "execution_count": 101,
   "metadata": {},
   "outputs": [],
   "source": [
    "d0.update(d1)"
   ]
  },
  {
   "cell_type": "code",
   "execution_count": 104,
   "metadata": {},
   "outputs": [],
   "source": [
    "d0[8]='new value'"
   ]
  },
  {
   "cell_type": "code",
   "execution_count": 38,
   "metadata": {},
   "outputs": [],
   "source": [
    "d2={a:2,b:5}"
   ]
  },
  {
   "cell_type": "code",
   "execution_count": 43,
   "metadata": {},
   "outputs": [
    {
     "data": {
      "text/plain": [
       "{'a': 5, 'b': 6}"
      ]
     },
     "execution_count": 43,
     "metadata": {},
     "output_type": "execute_result"
    }
   ],
   "source": [
    "d3=dict(a=5,b=6)\n",
    "d3"
   ]
  },
  {
   "cell_type": "code",
   "execution_count": 44,
   "metadata": {},
   "outputs": [
    {
     "data": {
      "text/plain": [
       "[(1, 2), (3, 4), (5, 6)]"
      ]
     },
     "execution_count": 44,
     "metadata": {},
     "output_type": "execute_result"
    }
   ],
   "source": [
    "t=[(1,2),(3,4),(5,6)]\n",
    "t"
   ]
  },
  {
   "cell_type": "code",
   "execution_count": 67,
   "metadata": {},
   "outputs": [
    {
     "data": {
      "text/plain": [
       "(1, 2)"
      ]
     },
     "execution_count": 67,
     "metadata": {},
     "output_type": "execute_result"
    }
   ],
   "source": [
    "t1=tuple([1,2])\n",
    "t"
   ]
  },
  {
   "cell_type": "code",
   "execution_count": 68,
   "metadata": {},
   "outputs": [
    {
     "data": {
      "text/plain": [
       "{1: 2}"
      ]
     },
     "execution_count": 68,
     "metadata": {},
     "output_type": "execute_result"
    }
   ],
   "source": [
    "dict([t1])"
   ]
  },
  {
   "cell_type": "code",
   "execution_count": 70,
   "metadata": {},
   "outputs": [
    {
     "data": {
      "text/plain": [
       "{1: None, 2: None, 3: None, 4: None}"
      ]
     },
     "execution_count": 70,
     "metadata": {},
     "output_type": "execute_result"
    }
   ],
   "source": [
    "l1=[1,2,3,4]\n",
    "dict.fromkeys(l1,None)"
   ]
  },
  {
   "cell_type": "code",
   "execution_count": 60,
   "metadata": {},
   "outputs": [],
   "source": [
    "l1=[4,5,6,7,8]\n",
    "l2=[4,5,6,7]"
   ]
  },
  {
   "cell_type": "code",
   "execution_count": 71,
   "metadata": {},
   "outputs": [
    {
     "data": {
      "text/plain": [
       "{1: 4, 2: 5, 3: 6, 4: 7}"
      ]
     },
     "execution_count": 71,
     "metadata": {},
     "output_type": "execute_result"
    }
   ],
   "source": [
    "d0=dict(zip(l1,l2))\n",
    "d0"
   ]
  },
  {
   "cell_type": "code",
   "execution_count": 73,
   "metadata": {},
   "outputs": [],
   "source": [
    "d0[1]=5"
   ]
  },
  {
   "cell_type": "code",
   "execution_count": 74,
   "metadata": {},
   "outputs": [
    {
     "data": {
      "text/plain": [
       "{1: 5, 2: 5, 3: 6, 4: 7}"
      ]
     },
     "execution_count": 74,
     "metadata": {},
     "output_type": "execute_result"
    }
   ],
   "source": [
    "d0"
   ]
  },
  {
   "cell_type": "markdown",
   "metadata": {},
   "source": [
    "### Looping Techniques"
   ]
  },
  {
   "cell_type": "code",
   "execution_count": null,
   "metadata": {},
   "outputs": [],
   "source": [
    "while <expression> :\n",
    "    do something here\n",
    "for i <expression> :\n",
    "    do something here\n",
    "continue\n",
    "break"
   ]
  },
  {
   "cell_type": "markdown",
   "metadata": {},
   "source": [
    "### More on Conditions"
   ]
  },
  {
   "cell_type": "code",
   "execution_count": null,
   "metadata": {},
   "outputs": [],
   "source": [
    "if else elif"
   ]
  },
  {
   "cell_type": "markdown",
   "metadata": {},
   "source": [
    "## Errors and Exceptions\n",
    "Reference: https://docs.python.org/3.7/library/exceptions.html#bltin-exceptions\n",
    "\n",
    "* Syntax Errors\n",
    "* Exceptions"
   ]
  },
  {
   "cell_type": "markdown",
   "metadata": {},
   "source": [
    "### Syntax Errors a.k.a Parsing Errors\n",
    "* Typos"
   ]
  },
  {
   "cell_type": "code",
   "execution_count": 117,
   "metadata": {},
   "outputs": [
    {
     "ename": "TypeError",
     "evalue": "dict expected at most 1 arguments, got 2",
     "output_type": "error",
     "traceback": [
      "\u001b[0;31m---------------------------------------------------------------------------\u001b[0m",
      "\u001b[0;31mTypeError\u001b[0m                                 Traceback (most recent call last)",
      "\u001b[0;32m<ipython-input-117-5723ed4cb4c5>\u001b[0m in \u001b[0;36m<module>\u001b[0;34m()\u001b[0m\n\u001b[0;32m----> 1\u001b[0;31m \u001b[0mdict\u001b[0m\u001b[0;34m(\u001b[0m\u001b[0;36m1\u001b[0m\u001b[0;34m,\u001b[0m\u001b[0;36m2\u001b[0m\u001b[0;34m)\u001b[0m\u001b[0;34m\u001b[0m\u001b[0m\n\u001b[0m",
      "\u001b[0;31mTypeError\u001b[0m: dict expected at most 1 arguments, got 2"
     ]
    }
   ],
   "source": [
    "dict(1,2)"
   ]
  },
  {
   "cell_type": "markdown",
   "metadata": {},
   "source": [
    "### Exceptions\n",
    "* Errors detected during execution are called exceptions "
   ]
  },
  {
   "cell_type": "code",
   "execution_count": null,
   "metadata": {},
   "outputs": [],
   "source": []
  },
  {
   "cell_type": "markdown",
   "metadata": {},
   "source": [
    "### Handling Exceptions\n",
    "```try``` ```except``` ```finally```\n",
    "* Stroy of ```try```, ```catch```, ```finally``` clauses\n",
    "* ```try``` ```else``` clauses\n",
    "    * Often times we might want some code to run if no exception occurs. \n",
    "    * This can easily be achieved by using an else clause\n",
    "    * The else clause would only run if no exception occurs and it would run before the finally clause.\n",
    "* Single except block\n",
    "* Multiple except blocks\n",
    "* Generic except block"
   ]
  },
  {
   "cell_type": "code",
   "execution_count": 6,
   "metadata": {},
   "outputs": [
    {
     "name": "stdout",
     "output_type": "stream",
     "text": [
      "Exception didn't occur\n",
      "finally block\n"
     ]
    }
   ],
   "source": [
    "a=10\n",
    "b=0\n",
    "try:\n",
    "    a/0\n",
    "    print('Exception didn\\'t occur')\n",
    "except Exception as e:\n",
    "    print('Division by Zero error has occured')\n",
    "finally:\n",
    "    print('finally block')"
   ]
  },
  {
   "cell_type": "code",
   "execution_count": 12,
   "metadata": {},
   "outputs": [
    {
     "name": "stdout",
     "output_type": "stream",
     "text": [
      "I am sure no exception is going to occur!\n",
      "This would only run if no exception occurs. And an error here would NOT be caught.\n",
      "This would be printed in every case.\n"
     ]
    }
   ],
   "source": [
    "try:\n",
    "    print('I am sure no exception is going to occur!')\n",
    "except Exception:\n",
    "    print('exception')\n",
    "else:\n",
    "    # any code that should only run if no exception occurs in the try,\n",
    "    # but for which exceptions should NOT be caught\n",
    "    print('This would only run if no exception occurs. And an error here '\n",
    "          'would NOT be caught.')\n",
    "finally:\n",
    "    print('This would be printed in every case.')"
   ]
  },
  {
   "cell_type": "code",
   "execution_count": 121,
   "metadata": {},
   "outputs": [
    {
     "name": "stdout",
     "output_type": "stream",
     "text": [
      "Unable to open foo\n"
     ]
    }
   ],
   "source": [
    "try:\n",
    "    f = open('foo.pd', 'r')\n",
    "    \n",
    "    # other statements\n",
    "except IOError as e:\n",
    "    print('Unable to open foo')"
   ]
  },
  {
   "cell_type": "code",
   "execution_count": 118,
   "metadata": {},
   "outputs": [
    {
     "name": "stdout",
     "output_type": "stream",
     "text": [
      "['hello world']\n"
     ]
    }
   ],
   "source": [
    "try:\n",
    "    f = open('foo.txt', 'r')\n",
    "except IOError as e:\n",
    "    print('Unable to open foo')\n",
    "else:\n",
    "    data=f.readlines()\n",
    "    f.close()\n",
    "    print(data)    "
   ]
  },
  {
   "cell_type": "markdown",
   "metadata": {},
   "source": [
    "### Raising Exceptions\n",
    "* The ```raise``` statement allows the programmer to force a specified exception to occur"
   ]
  },
  {
   "cell_type": "code",
   "execution_count": 26,
   "metadata": {},
   "outputs": [
    {
     "ename": "Exception",
     "evalue": "Incorrect value",
     "output_type": "error",
     "traceback": [
      "\u001b[0;31m---------------------------------------------------------------------------\u001b[0m",
      "\u001b[0;31mException\u001b[0m                                 Traceback (most recent call last)",
      "\u001b[0;32m<ipython-input-26-0982bd8844b5>\u001b[0m in \u001b[0;36m<module>\u001b[0;34m()\u001b[0m\n\u001b[1;32m      1\u001b[0m \u001b[0ma\u001b[0m\u001b[0;34m=\u001b[0m\u001b[0;36m3\u001b[0m\u001b[0;34m\u001b[0m\u001b[0m\n\u001b[1;32m      2\u001b[0m \u001b[0;32mif\u001b[0m \u001b[0ma\u001b[0m\u001b[0;34m<\u001b[0m\u001b[0;36m10\u001b[0m\u001b[0;34m:\u001b[0m\u001b[0;34m\u001b[0m\u001b[0m\n\u001b[0;32m----> 3\u001b[0;31m     \u001b[0;32mraise\u001b[0m \u001b[0mException\u001b[0m\u001b[0;34m(\u001b[0m\u001b[0;34m'Incorrect value'\u001b[0m\u001b[0;34m)\u001b[0m\u001b[0;34m\u001b[0m\u001b[0m\n\u001b[0m",
      "\u001b[0;31mException\u001b[0m: Incorrect value"
     ]
    }
   ],
   "source": [
    "a=3\n",
    "if a<10:\n",
    "    raise Exception('Incorrect value')"
   ]
  },
  {
   "cell_type": "markdown",
   "metadata": {},
   "source": [
    "### User-defined Exceptions"
   ]
  },
  {
   "cell_type": "code",
   "execution_count": 122,
   "metadata": {},
   "outputs": [
    {
     "name": "stdout",
     "output_type": "stream",
     "text": [
      "A New Exception occured:  raising exception\n"
     ]
    }
   ],
   "source": [
    "class MyError(Exception): \n",
    "  \n",
    "    # Constructor or Initializer \n",
    "    def __init__(self, value): \n",
    "        self.value = value \n",
    "  \n",
    "    # __str__ is to print() the value \n",
    "    def __str__(self): \n",
    "        return(repr(self.value))   \n",
    "try:\n",
    "    raise(MyError('raising exception')) \n",
    "# Value of Exception is stored in error \n",
    "except MyError as error: \n",
    "    print('A New Exception occured: ',error.value) "
   ]
  },
  {
   "cell_type": "markdown",
   "metadata": {},
   "source": [
    "### Defining Clean-up Actions\n",
    "* The try statement has another optional clause which is intended to define clean-up actions that must be executed under all circumstances."
   ]
  },
  {
   "cell_type": "code",
   "execution_count": null,
   "metadata": {},
   "outputs": [],
   "source": []
  },
  {
   "cell_type": "markdown",
   "metadata": {},
   "source": [
    "#### Problems to Practice"
   ]
  },
  {
   "cell_type": "markdown",
   "metadata": {},
   "source": [
    "### Set\n",
    "\n",
    "Problems:\n",
    "1.\n",
    "2.\n",
    "3."
   ]
  },
  {
   "cell_type": "markdown",
   "metadata": {},
   "source": [
    "## Classes"
   ]
  },
  {
   "cell_type": "markdown",
   "metadata": {},
   "source": [
    "### A Word About Names and Objects"
   ]
  },
  {
   "cell_type": "code",
   "execution_count": null,
   "metadata": {},
   "outputs": [],
   "source": []
  },
  {
   "cell_type": "markdown",
   "metadata": {},
   "source": [
    "### Python Scopes and Namespaces"
   ]
  },
  {
   "cell_type": "code",
   "execution_count": null,
   "metadata": {},
   "outputs": [],
   "source": []
  },
  {
   "cell_type": "markdown",
   "metadata": {},
   "source": [
    "### Scopes and Namespaces Example"
   ]
  },
  {
   "cell_type": "code",
   "execution_count": null,
   "metadata": {},
   "outputs": [],
   "source": []
  },
  {
   "cell_type": "markdown",
   "metadata": {},
   "source": [
    "### A First Look at Classes"
   ]
  },
  {
   "cell_type": "code",
   "execution_count": null,
   "metadata": {},
   "outputs": [],
   "source": []
  },
  {
   "cell_type": "markdown",
   "metadata": {},
   "source": [
    "### Class Definition Syntax"
   ]
  },
  {
   "cell_type": "code",
   "execution_count": null,
   "metadata": {},
   "outputs": [],
   "source": []
  },
  {
   "cell_type": "markdown",
   "metadata": {},
   "source": [
    "### Class Objects"
   ]
  },
  {
   "cell_type": "code",
   "execution_count": null,
   "metadata": {},
   "outputs": [],
   "source": []
  },
  {
   "cell_type": "markdown",
   "metadata": {},
   "source": [
    "### Instance Objects"
   ]
  },
  {
   "cell_type": "code",
   "execution_count": null,
   "metadata": {},
   "outputs": [],
   "source": []
  },
  {
   "cell_type": "markdown",
   "metadata": {},
   "source": [
    "### Method Objects"
   ]
  },
  {
   "cell_type": "code",
   "execution_count": null,
   "metadata": {},
   "outputs": [],
   "source": []
  },
  {
   "cell_type": "markdown",
   "metadata": {},
   "source": [
    "### Class and Instance Variables"
   ]
  },
  {
   "cell_type": "code",
   "execution_count": null,
   "metadata": {},
   "outputs": [],
   "source": []
  },
  {
   "cell_type": "markdown",
   "metadata": {},
   "source": [
    "### Random Remarks"
   ]
  },
  {
   "cell_type": "code",
   "execution_count": null,
   "metadata": {},
   "outputs": [],
   "source": []
  },
  {
   "cell_type": "markdown",
   "metadata": {},
   "source": [
    "### Inheritance"
   ]
  },
  {
   "cell_type": "code",
   "execution_count": null,
   "metadata": {},
   "outputs": [],
   "source": []
  },
  {
   "cell_type": "markdown",
   "metadata": {},
   "source": [
    "### Multiple Inheritance"
   ]
  },
  {
   "cell_type": "code",
   "execution_count": null,
   "metadata": {},
   "outputs": [],
   "source": []
  },
  {
   "cell_type": "markdown",
   "metadata": {},
   "source": [
    "### Private Variables"
   ]
  },
  {
   "cell_type": "code",
   "execution_count": null,
   "metadata": {},
   "outputs": [],
   "source": []
  },
  {
   "cell_type": "markdown",
   "metadata": {},
   "source": [
    "### Odds and Ends"
   ]
  },
  {
   "cell_type": "code",
   "execution_count": null,
   "metadata": {},
   "outputs": [],
   "source": []
  },
  {
   "cell_type": "markdown",
   "metadata": {},
   "source": [
    "### Iterators"
   ]
  },
  {
   "cell_type": "code",
   "execution_count": null,
   "metadata": {},
   "outputs": [],
   "source": []
  },
  {
   "cell_type": "markdown",
   "metadata": {},
   "source": [
    "### Generators"
   ]
  },
  {
   "cell_type": "code",
   "execution_count": null,
   "metadata": {},
   "outputs": [],
   "source": []
  },
  {
   "cell_type": "markdown",
   "metadata": {},
   "source": [
    "### Generator Expressions"
   ]
  },
  {
   "cell_type": "code",
   "execution_count": null,
   "metadata": {},
   "outputs": [],
   "source": []
  }
 ],
 "metadata": {
  "kernelspec": {
   "display_name": "Python 3",
   "language": "python",
   "name": "python3"
  },
  "language_info": {
   "codemirror_mode": {
    "name": "ipython",
    "version": 3
   },
   "file_extension": ".py",
   "mimetype": "text/x-python",
   "name": "python",
   "nbconvert_exporter": "python",
   "pygments_lexer": "ipython3",
   "version": "3.6.4"
  }
 },
 "nbformat": 4,
 "nbformat_minor": 2
}
